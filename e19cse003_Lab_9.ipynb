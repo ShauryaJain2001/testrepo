{
  "nbformat": 4,
  "nbformat_minor": 0,
  "metadata": {
    "colab": {
      "name": "Lab 9.ipynb",
      "provenance": [],
      "collapsed_sections": []
    },
    "kernelspec": {
      "name": "python3",
      "display_name": "Python 3"
    },
    "language_info": {
      "name": "python"
    }
  },
  "cells": [
    {
      "cell_type": "markdown",
      "source": [
        "##E19CSE003 Shaurya Jain"
      ],
      "metadata": {
        "id": "5da_-uy4LWGD"
      }
    },
    {
      "cell_type": "code",
      "source": [
        "import numpy as np\n",
        "import random\n",
        "import math\n",
        "import time\n",
        "import threading"
      ],
      "metadata": {
        "id": "CouqpWJFMNJF"
      },
      "execution_count": null,
      "outputs": []
    },
    {
      "cell_type": "markdown",
      "source": [
        "Creating files A and B"
      ],
      "metadata": {
        "id": "9OCNkjNlOctx"
      }
    },
    {
      "cell_type": "code",
      "execution_count": null,
      "metadata": {
        "id": "xwT2A3K4LP8t"
      },
      "outputs": [],
      "source": [
        "m, q, n = 100, 150, 200 \n",
        "\n",
        "a = np.random.randint(0, 100, (m, q))\n",
        "b = np.random.randint(0, 100, (q, n))\n",
        "\n",
        "mat = np.matrix(a)\n",
        "with open('FileA.txt','wb') as f:\n",
        "    for line in mat:\n",
        "        np.savetxt(f, line, fmt='%.2f')\n",
        "\n",
        "mat2 = np.matrix(b)\n",
        "with open('FileB.txt','wb') as f:\n",
        "    for line in mat2:\n",
        "        np.savetxt(f, line, fmt='%.2f')\n"
      ]
    },
    {
      "cell_type": "markdown",
      "source": [
        "Defining a function to multiply and create a file C"
      ],
      "metadata": {
        "id": "PlcWpZE8Oe3L"
      }
    },
    {
      "cell_type": "code",
      "source": [
        "def matmult(m, q, n, FileNameA, FileNameB, FileNameC):\n",
        "    with open(FileNameA, 'r') as f:\n",
        "        x = [[float(num) for num in line.split(' ')] for line in f]\n",
        "    \n",
        "    with open(FileNameB, 'r') as f:\n",
        "        y = [[float(num) for num in line.split(' ')] for line in f]\n",
        "\n",
        "    c = np.empty((m, n))\n",
        "    for i in range(len(x)):\n",
        "        for j in range(len(y[0])):\n",
        "            for k in range(len(y)):\n",
        "                c[i][j] += x[i][k] * y[k][j]\n",
        "                \n",
        "    mat3 = np.matrix(c)\n",
        "    with open(FileNameC, 'wb') as f:\n",
        "        for line in mat3:\n",
        "            np.savetxt(f, line, fmt = '%.2f')"
      ],
      "metadata": {
        "id": "iHSRYrcVOPfh"
      },
      "execution_count": null,
      "outputs": []
    },
    {
      "cell_type": "markdown",
      "source": [
        "Calling the function"
      ],
      "metadata": {
        "id": "2ZU9lvucQd-p"
      }
    },
    {
      "cell_type": "code",
      "source": [
        "start = time.time()\n",
        "matmult(m, q, n, \"FileA.txt\", \"FileB.txt\", \"FileC.txt\")\n",
        "print(\"Time Serial:\", time.time()-start)"
      ],
      "metadata": {
        "colab": {
          "base_uri": "https://localhost:8080/"
        },
        "id": "aDPminSFQdDx",
        "outputId": "ba99babc-c99e-4072-cc4e-28fd8a228a8b"
      },
      "execution_count": null,
      "outputs": [
        {
          "output_type": "stream",
          "name": "stdout",
          "text": [
            "Time Serial: 2.00895094871521\n"
          ]
        }
      ]
    },
    {
      "cell_type": "code",
      "source": [
        "start = time.time()\n",
        "t1 = threading.Thread(target = matmult, args = (m, q, n, \"FileA.txt\", \"FileB.txt\", \"FileCParallel.txt\"))\n",
        "t1.start()\n",
        "t1.join()\n",
        "print(\"Time Parallel:\", time.time()-start)"
      ],
      "metadata": {
        "colab": {
          "base_uri": "https://localhost:8080/"
        },
        "id": "VoGpi9ZTS3VB",
        "outputId": "a7c1b3dd-a096-4432-f165-e66841bdc155"
      },
      "execution_count": null,
      "outputs": [
        {
          "output_type": "stream",
          "name": "stdout",
          "text": [
            "Time Parallel: 1.921870231628418\n"
          ]
        }
      ]
    },
    {
      "cell_type": "code",
      "source": [
        ""
      ],
      "metadata": {
        "id": "4_DKz9s1gPsq"
      },
      "execution_count": null,
      "outputs": []
    }
  ]
}